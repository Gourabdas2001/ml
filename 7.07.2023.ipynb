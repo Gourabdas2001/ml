{
 "cells": [
  {
   "cell_type": "code",
   "execution_count": 1,
   "id": "289fbc3f",
   "metadata": {},
   "outputs": [],
   "source": [
    "import pandas as pd\n",
    "import numpy as np\n",
    "import matplotlib.pyplot as plt\n",
    "import seaborn as sns"
   ]
  },
  {
   "cell_type": "code",
   "execution_count": 5,
   "id": "1ec4c158",
   "metadata": {},
   "outputs": [],
   "source": [
    "df=pd.read_csv(r\"C:\\Users\\goura\\Downloads\\CWML\\employees.csv\")"
   ]
  },
  {
   "cell_type": "code",
   "execution_count": 9,
   "id": "e58f65cd",
   "metadata": {},
   "outputs": [
    {
     "data": {
      "text/plain": [
       "First Name            object\n",
       "Gender                object\n",
       "Start Date            object\n",
       "Last Login Time       object\n",
       "Salary                 int64\n",
       "Bonus %              float64\n",
       "Senior Management     object\n",
       "Team                  object\n",
       "dtype: object"
      ]
     },
     "execution_count": 9,
     "metadata": {},
     "output_type": "execute_result"
    }
   ],
   "source": [
    "df.dtypes"
   ]
  },
  {
   "cell_type": "code",
   "execution_count": 10,
   "id": "66955292",
   "metadata": {},
   "outputs": [
    {
     "data": {
      "text/plain": [
       "(1000, 8)"
      ]
     },
     "execution_count": 10,
     "metadata": {},
     "output_type": "execute_result"
    }
   ],
   "source": [
    "df.shape"
   ]
  },
  {
   "cell_type": "code",
   "execution_count": 11,
   "id": "4543ead5",
   "metadata": {},
   "outputs": [
    {
     "name": "stdout",
     "output_type": "stream",
     "text": [
      "<class 'pandas.core.frame.DataFrame'>\n",
      "RangeIndex: 1000 entries, 0 to 999\n",
      "Data columns (total 8 columns):\n",
      " #   Column             Non-Null Count  Dtype  \n",
      "---  ------             --------------  -----  \n",
      " 0   First Name         933 non-null    object \n",
      " 1   Gender             855 non-null    object \n",
      " 2   Start Date         1000 non-null   object \n",
      " 3   Last Login Time    1000 non-null   object \n",
      " 4   Salary             1000 non-null   int64  \n",
      " 5   Bonus %            1000 non-null   float64\n",
      " 6   Senior Management  933 non-null    object \n",
      " 7   Team               957 non-null    object \n",
      "dtypes: float64(1), int64(1), object(6)\n",
      "memory usage: 62.6+ KB\n"
     ]
    }
   ],
   "source": [
    "df.info()"
   ]
  },
  {
   "cell_type": "code",
   "execution_count": 14,
   "id": "7c8a128d",
   "metadata": {},
   "outputs": [
    {
     "data": {
      "text/plain": [
       "First Name            True\n",
       "Gender                True\n",
       "Start Date           False\n",
       "Last Login Time      False\n",
       "Salary               False\n",
       "Bonus %              False\n",
       "Senior Management     True\n",
       "Team                  True\n",
       "dtype: bool"
      ]
     },
     "execution_count": 14,
     "metadata": {},
     "output_type": "execute_result"
    }
   ],
   "source": [
    "df.isnull().any()"
   ]
  },
  {
   "cell_type": "code",
   "execution_count": 15,
   "id": "bad79304",
   "metadata": {},
   "outputs": [
    {
     "data": {
      "text/plain": [
       "First Name            67\n",
       "Gender               145\n",
       "Start Date             0\n",
       "Last Login Time        0\n",
       "Salary                 0\n",
       "Bonus %                0\n",
       "Senior Management     67\n",
       "Team                  43\n",
       "dtype: int64"
      ]
     },
     "execution_count": 15,
     "metadata": {},
     "output_type": "execute_result"
    }
   ],
   "source": [
    "df.isnull().sum()"
   ]
  },
  {
   "cell_type": "code",
   "execution_count": 16,
   "id": "edbef751",
   "metadata": {},
   "outputs": [],
   "source": [
    "# 1% data have null then you can think about it but if more then 6% then don,t follow this process"
   ]
  },
  {
   "cell_type": "code",
   "execution_count": 17,
   "id": "b2d557e8",
   "metadata": {},
   "outputs": [],
   "source": [
    "gh=df.dropna()"
   ]
  },
  {
   "cell_type": "code",
   "execution_count": 18,
   "id": "91cfade4",
   "metadata": {},
   "outputs": [
    {
     "data": {
      "text/plain": [
       "(764, 8)"
      ]
     },
     "execution_count": 18,
     "metadata": {},
     "output_type": "execute_result"
    }
   ],
   "source": [
    "gh.shape"
   ]
  },
  {
   "cell_type": "code",
   "execution_count": 19,
   "id": "cc526668",
   "metadata": {},
   "outputs": [],
   "source": [
    "# if data null is catagorian them fill  it with mode and for non catagorical then fill with mean"
   ]
  },
  {
   "cell_type": "code",
   "execution_count": 20,
   "id": "0147956b",
   "metadata": {},
   "outputs": [],
   "source": [
    "fd=df.fillna(8)"
   ]
  },
  {
   "cell_type": "code",
   "execution_count": 21,
   "id": "76c524f1",
   "metadata": {},
   "outputs": [
    {
     "data": {
      "text/plain": [
       "First Name           0\n",
       "Gender               0\n",
       "Start Date           0\n",
       "Last Login Time      0\n",
       "Salary               0\n",
       "Bonus %              0\n",
       "Senior Management    0\n",
       "Team                 0\n",
       "dtype: int64"
      ]
     },
     "execution_count": 21,
     "metadata": {},
     "output_type": "execute_result"
    }
   ],
   "source": [
    "fd.isna().sum()"
   ]
  },
  {
   "cell_type": "code",
   "execution_count": 22,
   "id": "c2cd727d",
   "metadata": {},
   "outputs": [
    {
     "data": {
      "text/plain": [
       "Female    431\n",
       "Male      424\n",
       "Name: Gender, dtype: int64"
      ]
     },
     "execution_count": 22,
     "metadata": {},
     "output_type": "execute_result"
    }
   ],
   "source": [
    "df[\"Gender\"].value_counts()#frequency"
   ]
  },
  {
   "cell_type": "code",
   "execution_count": 23,
   "id": "5452f590",
   "metadata": {},
   "outputs": [
    {
     "data": {
      "text/plain": [
       "Female    431\n",
       "Male      424\n",
       "8         145\n",
       "Name: Gender, dtype: int64"
      ]
     },
     "execution_count": 23,
     "metadata": {},
     "output_type": "execute_result"
    }
   ],
   "source": [
    "fd[\"Gender\"].value_counts()"
   ]
  },
  {
   "cell_type": "code",
   "execution_count": 28,
   "id": "bbd447af",
   "metadata": {},
   "outputs": [
    {
     "data": {
      "text/plain": [
       "<Axes: xlabel='Gender', ylabel='count'>"
      ]
     },
     "execution_count": 28,
     "metadata": {},
     "output_type": "execute_result"
    },
    {
     "data": {
      "image/png": "[encoded data removed]",
      "text/plain": [
       "<Figure size 640x480 with 1 Axes>"
      ]
     },
     "metadata": {},
     "output_type": "display_data"
    }
   ],
   "source": [
    "sns.countplot(x=\"Gender\",data=df)"
   ]
  },
  {
   "cell_type": "code",
   "execution_count": 30,
   "id": "898fcc2e",
   "metadata": {},
   "outputs": [
    {
     "data": {
      "text/plain": [
       "<Axes: xlabel='Team', ylabel='count'>"
      ]
     },
     "execution_count": 30,
     "metadata": {},
     "output_type": "execute_result"
    },
    {
     "data": {
      "image/png": "[encoded data removed]",
      "text/plain": [
       "<Figure size 640x480 with 1 Axes>"
      ]
     },
     "metadata": {},
     "output_type": "display_data"
    }
   ],
   "source": [
    "sns.countplot(x=\"Team\",data=df,hue=\"Gender\")"
   ]
  },
  {
   "cell_type": "code",
   "execution_count": 31,
   "id": "1596f2a4",
   "metadata": {},
   "outputs": [],
   "source": [
    "#coss tab"
   ]
  },
  {
   "cell_type": "code",
   "execution_count": 35,
   "id": "2878fff9",
   "metadata": {},
   "outputs": [
    {
     "data": {
      "text/html": [
       "<div>\n",
       "<style scoped>\n",
       "    .dataframe tbody tr th:only-of-type {\n",
       "        vertical-align: middle;\n",
       "    }\n",
       "\n",
       "    .dataframe tbody tr th {\n",
       "        vertical-align: top;\n",
       "    }\n",
       "\n",
       "    .dataframe thead th {\n",
       "        text-align: right;\n",
       "    }\n",
       "</style>\n",
       "<table border=\"1\" class=\"dataframe\">\n",
       "  <thead>\n",
       "    <tr style=\"text-align: right;\">\n",
       "      <th>Team</th>\n",
       "      <th>Business Development</th>\n",
       "      <th>Client Services</th>\n",
       "      <th>Distribution</th>\n",
       "      <th>Engineering</th>\n",
       "      <th>Finance</th>\n",
       "      <th>Human Resources</th>\n",
       "      <th>Legal</th>\n",
       "      <th>Marketing</th>\n",
       "      <th>Product</th>\n",
       "      <th>Sales</th>\n",
       "      <th>count</th>\n",
       "    </tr>\n",
       "    <tr>\n",
       "      <th>Gender</th>\n",
       "      <th></th>\n",
       "      <th></th>\n",
       "      <th></th>\n",
       "      <th></th>\n",
       "      <th></th>\n",
       "      <th></th>\n",
       "      <th></th>\n",
       "      <th></th>\n",
       "      <th></th>\n",
       "      <th></th>\n",
       "      <th></th>\n",
       "    </tr>\n",
       "  </thead>\n",
       "  <tbody>\n",
       "    <tr>\n",
       "      <th>Female</th>\n",
       "      <td>50</td>\n",
       "      <td>48</td>\n",
       "      <td>37</td>\n",
       "      <td>44</td>\n",
       "      <td>44</td>\n",
       "      <td>37</td>\n",
       "      <td>34</td>\n",
       "      <td>40</td>\n",
       "      <td>45</td>\n",
       "      <td>39</td>\n",
       "      <td>418</td>\n",
       "    </tr>\n",
       "    <tr>\n",
       "      <th>Male</th>\n",
       "      <td>40</td>\n",
       "      <td>42</td>\n",
       "      <td>35</td>\n",
       "      <td>40</td>\n",
       "      <td>41</td>\n",
       "      <td>45</td>\n",
       "      <td>35</td>\n",
       "      <td>41</td>\n",
       "      <td>40</td>\n",
       "      <td>39</td>\n",
       "      <td>398</td>\n",
       "    </tr>\n",
       "    <tr>\n",
       "      <th>count</th>\n",
       "      <td>90</td>\n",
       "      <td>90</td>\n",
       "      <td>72</td>\n",
       "      <td>84</td>\n",
       "      <td>85</td>\n",
       "      <td>82</td>\n",
       "      <td>69</td>\n",
       "      <td>81</td>\n",
       "      <td>85</td>\n",
       "      <td>78</td>\n",
       "      <td>816</td>\n",
       "    </tr>\n",
       "  </tbody>\n",
       "</table>\n",
       "</div>"
      ],
      "text/plain": [
       "Team    Business Development  Client Services  Distribution  Engineering  \\\n",
       "Gender                                                                     \n",
       "Female                    50               48            37           44   \n",
       "Male                      40               42            35           40   \n",
       "count                     90               90            72           84   \n",
       "\n",
       "Team    Finance  Human Resources  Legal  Marketing  Product  Sales  count  \n",
       "Gender                                                                     \n",
       "Female       44               37     34         40       45     39    418  \n",
       "Male         41               45     35         41       40     39    398  \n",
       "count        85               82     69         81       85     78    816  "
      ]
     },
     "execution_count": 35,
     "metadata": {},
     "output_type": "execute_result"
    }
   ],
   "source": [
    "pd.crosstab(df[\"Gender\"],df[\"Team\"],margins=True,margins_name=\"count\")"
   ]
  },
  {
   "cell_type": "code",
   "execution_count": null,
   "id": "08d405ec",
   "metadata": {},
   "outputs": [],
   "source": []
  }
 ],
 "metadata": {
  "kernelspec": {
   "display_name": "Python 3 (ipykernel)",
   "language": "python",
   "name": "python3"
  },
  "language_info": {
   "codemirror_mode": {
    "name": "ipython",
    "version": 3
   },
   "file_extension": ".py",
   "mimetype": "text/x-python",
   "name": "python",
   "nbconvert_exporter": "python",
   "pygments_lexer": "ipython3",
   "version": "3.10.9"
  }
 },
 "nbformat": 4,
 "nbformat_minor": 5
}
